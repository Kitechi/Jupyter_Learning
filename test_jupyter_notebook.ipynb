{
 "cells": [
  {
   "cell_type": "markdown",
   "id": "5cd0d3d9",
   "metadata": {},
   "source": [
    "# Python ka chilla with baba ammar\n",
    "## How to use jupyter notebook\n",
    "### Basics of python\n",
    "**01- My first program**"
   ]
  },
  {
   "cell_type": "code",
   "execution_count": 1,
   "id": "a025122c",
   "metadata": {},
   "outputs": [
    {
     "name": "stdout",
     "output_type": "stream",
     "text": [
      "5\n",
      "Hello World\n",
      "I am learning python\n"
     ]
    }
   ],
   "source": [
    "# My first code in jupyter\n",
    "print(2+3)\n",
    "print(\"Hello World\")\n",
    "print(\"I am learning python\")"
   ]
  },
  {
   "cell_type": "markdown",
   "id": "ceb471f1",
   "metadata": {},
   "source": [
    "**02- operators**"
   ]
  },
  {
   "cell_type": "code",
   "execution_count": 2,
   "id": "a2a3d870",
   "metadata": {},
   "outputs": [
    {
     "name": "stdout",
     "output_type": "stream",
     "text": [
      "4\n",
      "1\n",
      "6\n",
      "2.0\n",
      "1\n",
      "3\n",
      "8\n",
      "6.5\n"
     ]
    }
   ],
   "source": [
    "print(2+2)\n",
    "print(3-2)\n",
    "print(2*3)\n",
    "print(6/3)\n",
    "print(13%2)\n",
    "print(6//2)\n",
    "print(2**3)\n",
    "\n",
    "print(3**2/2*3/3+6-4)"
   ]
  },
  {
   "cell_type": "markdown",
   "id": "4bb53949",
   "metadata": {},
   "source": [
    "*PEMDAS\n",
    "Parenthesis, Exponents, Multiply, Divide, Addition, Subtraction\n",
    "Multiplication and division runs from left to right\n",
    "Addition and subtraction runs from left to right*"
   ]
  },
  {
   "cell_type": "markdown",
   "id": "a42a729b",
   "metadata": {},
   "source": [
    "**03- Strings**"
   ]
  },
  {
   "cell_type": "code",
   "execution_count": 3,
   "id": "4fa8ea30",
   "metadata": {},
   "outputs": [
    {
     "name": "stdout",
     "output_type": "stream",
     "text": [
      "Hello World\n",
      "I am learning python\n",
      "Test for single quotes\n",
      "Test for single quotes\n",
      "Test for single quotes\n",
      " What's up ?\n",
      "Salahuddin_strings_clear\n"
     ]
    }
   ],
   "source": [
    "print(\"Hello World\")\n",
    "print(\"I am learning python\")\n",
    "print('Test for single quotes')\n",
    "print(\"Test for single quotes\")\n",
    "print('''Test for single quotes''')\n",
    "print(\" What's up ?\")\n",
    "print(\"Salahuddin_strings_clear\")"
   ]
  },
  {
   "cell_type": "markdown",
   "id": "ef87ce81",
   "metadata": {},
   "source": [
    "**04- Comments in python**\n",
    "\n",
    "the shortcut key to comments is **ctrl+/**"
   ]
  },
  {
   "cell_type": "code",
   "execution_count": 4,
   "id": "0714d58f",
   "metadata": {},
   "outputs": [
    {
     "name": "stdout",
     "output_type": "stream",
     "text": [
      "How are you?\n",
      "We are learning phyton with aammar\n",
      "5\n"
     ]
    }
   ],
   "source": [
    "print(\"How are you?\")\n",
    "print(\"We are learning phyton with aammar\") # print a string\n",
    "print(2+3) #print an operator function with numbers"
   ]
  },
  {
   "cell_type": "markdown",
   "id": "831042fb",
   "metadata": {},
   "source": [
    "**05- Variables**"
   ]
  },
  {
   "cell_type": "code",
   "execution_count": 5,
   "id": "7d71fe2c",
   "metadata": {},
   "outputs": [
    {
     "name": "stdout",
     "output_type": "stream",
     "text": [
      "5\n",
      "We are learning python with Ammar\n",
      "20\n",
      "<class 'int'>\n",
      "<class 'str'>\n",
      "Mangoes , oranges\n"
     ]
    }
   ],
   "source": [
    "#Variables: objects containing specific values\n",
    "x = 5 #Numeric variable\n",
    "print(x)\n",
    "\n",
    "y = \"We are learning python with Ammar\" #string variable\n",
    "print(y)\n",
    "\n",
    "x= x+15\n",
    "print(x)\n",
    "\n",
    "#Types of variables\n",
    "print(type(x))\n",
    "print(type(y))\n",
    "\n",
    "# Rules to assign a variable\n",
    "# 1- Number\n",
    "\n",
    "fruit_basket = \"Mangoes , oranges\"\n",
    "\n",
    "print(fruit_basket)\n",
    "\n",
    "del fruit_basket"
   ]
  },
  {
   "cell_type": "markdown",
   "id": "fb99c676",
   "metadata": {},
   "source": [
    "**06- Input variables**"
   ]
  },
  {
   "cell_type": "code",
   "execution_count": 6,
   "id": "7a92b050",
   "metadata": {},
   "outputs": [
    {
     "name": "stdout",
     "output_type": "stream",
     "text": [
      "What's your name? Salahuddin\n",
      "Hello! Salahuddin\n"
     ]
    }
   ],
   "source": [
    "# fruit_basket = \"Mangoes\"\n",
    "# #input function\n",
    "# fruit_basket=input(\"Which is you favourite fruit? \")\n",
    "# print(fruit_basket)\n",
    "\n",
    "# #input second stage\n",
    "# name=input(\"What's your name? \")\n",
    "# greetings=\"Hello!\"\n",
    "# print(greetings, name)\n",
    "\n",
    "#input second stage\n",
    "name=input(\"What's your name? \")\n",
    "\n",
    "print(\"Hello!\", name)"
   ]
  },
  {
   "cell_type": "markdown",
   "id": "4e1ddf42",
   "metadata": {},
   "source": [
    "**07- Conditional logics**"
   ]
  },
  {
   "cell_type": "code",
   "execution_count": 7,
   "id": "5529cf05",
   "metadata": {},
   "outputs": [
    {
     "name": "stdout",
     "output_type": "stream",
     "text": [
      "True\n",
      "False\n",
      "True\n",
      "True\n",
      "How old is Salah? 5\n",
      "True\n"
     ]
    }
   ],
   "source": [
    "# Equal to ==\n",
    "# Not equal to !=\n",
    "# Less than <\n",
    "# Greater than >\n",
    "# less than and equal to <=\n",
    "# greater than and equal to >=\n",
    "#Is 4 equal to 4\n",
    "print(4==4)\n",
    "print(4!=4)\n",
    "print(3<=4)\n",
    "print(5>=4)\n",
    "\n",
    "Salah_age=input(\"How old is Salah? \")\n",
    "age_at_school = 5\n",
    "Salah_age=int(Salah_age)\n",
    "print(Salah_age>=age_at_school)"
   ]
  },
  {
   "cell_type": "markdown",
   "id": "ba94f583",
   "metadata": {},
   "source": [
    "**08- Conversions**"
   ]
  },
  {
   "cell_type": "code",
   "execution_count": 8,
   "id": "fbb4dffd",
   "metadata": {},
   "outputs": [
    {
     "name": "stdout",
     "output_type": "stream",
     "text": [
      "10 10.2 Hello\n",
      "<class 'float'>\n",
      "What's your age? 20\n",
      "20 <class 'float'>\n"
     ]
    }
   ],
   "source": [
    "x = 10\n",
    "y = 10.2\n",
    "z=\"Hello\"\n",
    "print(x,y,z)\n",
    "#Implicit type conversion\n",
    "x = x+y\n",
    "print(type(x))\n",
    "#explicit type conversion\n",
    "age=input(\"What's your age? \")\n",
    "print(age, type(float(age)))"
   ]
  },
  {
   "cell_type": "markdown",
   "id": "3ed10eba",
   "metadata": {},
   "source": [
    "**09- if else elif**"
   ]
  },
  {
   "cell_type": "code",
   "execution_count": 9,
   "id": "61edc8fa",
   "metadata": {},
   "outputs": [
    {
     "name": "stdout",
     "output_type": "stream",
     "text": [
      "Hammad should join higher secondary school\n"
     ]
    }
   ],
   "source": [
    "reqiured_age_at_school = 5\n",
    "hammad_age = 8\n",
    "# question: can hammad go to school\n",
    "\n",
    "if hammad_age==reqiured_age_at_school:\n",
    "    print(\"Hammad can join the school\")\n",
    "\n",
    "elif hammad_age> reqiured_age_at_school:\n",
    "    print(\"Hammad should join higher secondary school\")\n",
    "else:\n",
    "    print(\"Hammad cannot join the school\")\n",
    "    "
   ]
  },
  {
   "cell_type": "markdown",
   "id": "7799aaf4",
   "metadata": {},
   "source": [
    "**10- Functions**"
   ]
  },
  {
   "cell_type": "code",
   "execution_count": 10,
   "id": "11ade868",
   "metadata": {},
   "outputs": [
    {
     "name": "stdout",
     "output_type": "stream",
     "text": [
      "We are babies\n",
      "SALAHuddin\n",
      "SALAHuddin\n",
      "SALAHuddin\n"
     ]
    }
   ],
   "source": [
    "print(\"We are babies\")\n",
    "\n",
    "#defining a fuction\n",
    "def print_codanics(text):\n",
    "    print(text)\n",
    "    print(text)\n",
    "    print(text)\n",
    "\n",
    "\n",
    "print_codanics(\"SALAHuddin\")\n"
   ]
  },
  {
   "cell_type": "markdown",
   "id": "1ff0940e",
   "metadata": {},
   "source": [
    "**11- Loops**"
   ]
  },
  {
   "cell_type": "code",
   "execution_count": 11,
   "id": "a16880f3",
   "metadata": {},
   "outputs": [
    {
     "name": "stdout",
     "output_type": "stream",
     "text": [
      "0\n",
      "1\n",
      "2\n",
      "3\n",
      "4\n",
      "5\n",
      "5\n",
      "6\n",
      "7\n",
      "8\n",
      "9\n",
      "Mon\n",
      "Tue\n",
      "Wed\n",
      "Thu\n",
      "Sat\n",
      "Sun\n"
     ]
    }
   ],
   "source": [
    "#While and For loop\n",
    "#While loops\n",
    "x=0\n",
    "while(x<=5):\n",
    "    print(x)\n",
    "    x=x+1\n",
    "\n",
    "for x in range(5,10):\n",
    "    print(x)\n",
    "\n",
    "#Erray\n",
    "days =[\"Mon\", \"Tue\",\"Wed\", \"Thu\",\"Fri\",\"Sat\",\"Sun\"]\n",
    "for d in days:\n",
    "    # if (d==\"Fri\"):break #loop stops\n",
    "    if (d==\"Fri\"):continue #loop skips\n",
    "    print(d)"
   ]
  },
  {
   "cell_type": "markdown",
   "id": "30d237f7",
   "metadata": {},
   "source": [
    "**12- Import libraries**"
   ]
  },
  {
   "cell_type": "code",
   "execution_count": 12,
   "id": "adf377af",
   "metadata": {},
   "outputs": [
    {
     "name": "stdout",
     "output_type": "stream",
     "text": [
      "the value of pi is:  3.141592653589793\n",
      "300\n"
     ]
    }
   ],
   "source": [
    "#if you want to print the value of pi\n",
    "import math\n",
    "print(\"the value of pi is: \",math.pi)\n",
    "\n",
    "import statistics\n",
    "x= [150,250,350,450]\n",
    "print(statistics.mean(x))\n",
    "\n",
    "# Some important liberaries\n",
    "# numpy, pandas"
   ]
  },
  {
   "cell_type": "markdown",
   "id": "badb7162",
   "metadata": {},
   "source": [
    "**13- Trouble shooting**"
   ]
  },
  {
   "cell_type": "code",
   "execution_count": 13,
   "id": "16ceca66",
   "metadata": {},
   "outputs": [
    {
     "name": "stdout",
     "output_type": "stream",
     "text": [
      "Hello name\n"
     ]
    }
   ],
   "source": [
    "#print(We are learning python) #Syntax error\n",
    "\n",
    "# print(25/0) # runtime error\n",
    "\n",
    "name = \"Ammar\"\n",
    "print(\"Hello name\") # semantic error"
   ]
  },
  {
   "cell_type": "code",
   "execution_count": null,
   "id": "2ac5918f",
   "metadata": {},
   "outputs": [],
   "source": []
  }
 ],
 "metadata": {
  "kernelspec": {
   "display_name": "Python 3 (ipykernel)",
   "language": "python",
   "name": "python3"
  },
  "language_info": {
   "codemirror_mode": {
    "name": "ipython",
    "version": 3
   },
   "file_extension": ".py",
   "mimetype": "text/x-python",
   "name": "python",
   "nbconvert_exporter": "python",
   "pygments_lexer": "ipython3",
   "version": "3.9.7"
  }
 },
 "nbformat": 4,
 "nbformat_minor": 5
}
